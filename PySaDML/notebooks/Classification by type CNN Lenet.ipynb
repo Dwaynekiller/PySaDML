{
 "cells": [
  {
   "cell_type": "markdown",
   "id": "6564cbc7-3249-4e94-9108-c0297f42b7bc",
   "metadata": {},
   "source": [
    "# Anomaly detection using classification by type of machine"
   ]
  },
  {
   "cell_type": "markdown",
   "id": "0d9a07fb-4d02-4ae8-81f7-dc142bfc087b",
   "metadata": {},
   "source": [
    "Nous allons essayer de détecter les sons anormaux pour une machine spécifique en appliquant la méthode suivante :\n",
    "\n",
    "Entraîner un modèle de deepl learing Lenet avec le jeu de données d'entraînement afin d'avoir un modèle capable de classer le son par type de machine.\n",
    "\n",
    "Utiliser le modèle pour prédire le type de machine d'un son et supposer que si le type détecté n'est pas le bon, il peut s'agir d'un son anormal."
   ]
  },
  {
   "cell_type": "markdown",
   "id": "3f342a26",
   "metadata": {},
   "source": [
    "## Import des librairies"
   ]
  },
  {
   "cell_type": "code",
   "execution_count": 1,
   "id": "7c76cb78",
   "metadata": {},
   "outputs": [
    {
     "data": {
      "text/html": [
       "<style>.container { width:100% !important; }</style>"
      ],
      "text/plain": [
       "<IPython.core.display.HTML object>"
      ]
     },
     "metadata": {},
     "output_type": "display_data"
    }
   ],
   "source": [
    "# Mise en forme notebook (pleine largeur)\n",
    "from IPython.core.display import display, HTML\n",
    "display(HTML(\"<style>.container { width:100% !important; }</style>\"))"
   ]
  },
  {
   "cell_type": "code",
   "execution_count": 2,
   "id": "616574d9",
   "metadata": {},
   "outputs": [
    {
     "data": {
      "text/plain": [
       "'1.3.0'"
      ]
     },
     "execution_count": 2,
     "metadata": {},
     "output_type": "execute_result"
    }
   ],
   "source": [
    "# Python libraries:\n",
    "# to handle datasets\n",
    "import numpy as np # linear algebra\n",
    "import random\n",
    "\n",
    "# Initialization:\n",
    "np.random.seed(1001)\n",
    "\n",
    "import pandas as pd # data processing, CSV file I/O (e.g. pd.read_csv)\n",
    "import os # accessing directory structure\n",
    "import time\n",
    "\n",
    "# for sound analysis\n",
    "import librosa\n",
    "import librosa.display\n",
    "import IPython.display as ipd\n",
    "from scipy import fftpack\n",
    "from scipy import signal\n",
    "\n",
    "from tqdm.notebook import tqdm\n",
    "\n",
    "# for plotting\n",
    "%matplotlib inline\n",
    "import matplotlib.pyplot as plt\n",
    "import seaborn as sns\n",
    "\n",
    "# for image loading\n",
    "from PIL import Image\n",
    "\n",
    "# for Deep Learing\n",
    "from tensorflow.keras.models import Sequential, Model\n",
    "from tensorflow.keras.layers import Dense, Activation, Input\n",
    "from tensorflow.keras.layers import Dropout\n",
    "from tensorflow.keras.layers import Flatten\n",
    "from tensorflow.keras.layers import Conv2D\n",
    "from tensorflow.keras.layers import MaxPooling2D\n",
    "from keras.utils import to_categorical\n",
    "from sklearn import metrics, utils\n",
    "import itertools\n",
    "\n",
    "# for standardisation\n",
    "from sklearn.preprocessing import StandardScaler\n",
    "\n",
    "import warnings\n",
    "warnings.filterwarnings('ignore')\n",
    "\n",
    "#show pandas version\n",
    "pd.__version__"
   ]
  },
  {
   "cell_type": "markdown",
   "id": "3ebe1b15-c24d-47f1-825a-260bba558693",
   "metadata": {},
   "source": [
    "## Chargement du dataset d'entrainement et de test"
   ]
  },
  {
   "cell_type": "code",
   "execution_count": 3,
   "id": "6e668668",
   "metadata": {},
   "outputs": [],
   "source": [
    "# Paths definition:\n",
    "ROOT_AUDIO     = './../data' #Directory name where are all wave files\n",
    "#ROOT_AUDIO     = '/content/drive/MyDrive/DCASE_DATASET/dev' #Directory name where are all wave files\n",
    "DEV_DATA_PATH       = os.path.join(ROOT_AUDIO, 'dev_data')\n",
    "EVAL_DATA_PATH      = os.path.join(ROOT_AUDIO, 'eval_data')\n",
    "\n",
    "def load_sound_file(audio_path, duration=None):\n",
    "    \"\"\"\n",
    "    Loads a sound file\n",
    "    \n",
    "    PARAMS\n",
    "    ======\n",
    "        audio_path (string) - location to the WAV file to open\n",
    "    \n",
    "    RETURNS\n",
    "    =======\n",
    "        signal (numpy array) - sound signal\n",
    "        sampling_rate (float) - sampling rate detected in the file\n",
    "    \"\"\"\n",
    "    multi_channel_data, sampling_rate = librosa.load(audio_path, sr=None, duration=duration)\n",
    "    signal = np.array(multi_channel_data)\n",
    "    \n",
    "    return signal, sampling_rate"
   ]
  },
  {
   "cell_type": "code",
   "execution_count": 4,
   "id": "4ff035e0",
   "metadata": {},
   "outputs": [
    {
     "name": "stdout",
     "output_type": "stream",
     "text": [
      "CSV : Train data already exists, loading from file...\n",
      "Done.\n"
     ]
    }
   ],
   "source": [
    "files = ROOT_AUDIO\n",
    "data_location_csv = os.path.join(ROOT_AUDIO, 'dev_data.csv')\n",
    "\n",
    "if os.path.exists(data_location_csv):\n",
    "    print('CSV : Train data already exists, loading from file...')\n",
    "    with open(data_location_csv, 'rb') as f:\n",
    "        data_csv = pd.read_csv(f, dtype={\"machine_id\": \"str\", \"sample_id\": \"str\"});\n",
    "    print('Done.')\n",
    "        \n",
    "else:\n",
    "    data_csv = generate_dataset(files)\n",
    "    print('Saving csv training data to disk...')\n",
    "    data_csv.to_csv(data_location_csv)\n",
    "#    with open(data_location_csv, 'wb') as f:\n",
    "#        data_csv.to_csv(f, index=False);\n",
    "    print('Done.')"
   ]
  },
  {
   "cell_type": "code",
   "execution_count": 5,
   "id": "9e58d22b",
   "metadata": {},
   "outputs": [
    {
     "name": "stdout",
     "output_type": "stream",
     "text": [
      "(20119, 11) (10868, 11)\n"
     ]
    }
   ],
   "source": [
    "train_data = data_csv[data_csv['data_split'] == 'train'].reset_index(drop=True)\n",
    "test_data = data_csv[data_csv['data_split'] == 'test'].reset_index(drop=True)\n",
    "print(train_data.shape, test_data.shape)"
   ]
  },
  {
   "cell_type": "markdown",
   "id": "be09ffe9-b1de-4786-aee8-ca48e16c6e2e",
   "metadata": {},
   "source": [
    "## Création du dataset d'entrainement et de test contenant les spectrogramme de MEL de chaque son"
   ]
  },
  {
   "cell_type": "code",
   "execution_count": 6,
   "id": "7889ee7a",
   "metadata": {},
   "outputs": [],
   "source": [
    "n_mels = 64 #128 #64; The number of Mels refers to the number Mel bands, or “bins”, that our Mel scale will be broken up into\n",
    "n_fft = 2**13 #=2048 2**10 #2**11 #=2048;  2**13 #=8196; The n_fft length of the discrete Fourier transformation window describes the size of the window that will be used when performing each discrete Fourier transformation across the audio signal\n",
    "hop_length = 2**11 #=512 n_fft // 2 # 2**9 #=512; describes how much this window is to be shifted along the audio signal during each step of STFT processing\n",
    "#hop_length = 2**12 #=512 n_fft // 2 # 2**9 #=512; describes how much this window is to be shifted along the audio signal during each step of STFT processing\n",
    "fmin = 20 #The minimum frequency describes the low frequency cutoff point that will be used when generating our Mel spectrograms."
   ]
  },
  {
   "cell_type": "code",
   "execution_count": 7,
   "id": "a1419bb1",
   "metadata": {},
   "outputs": [],
   "source": [
    "# duration of audio file\n",
    "duree_min = float(train_data['durations'].min())\n",
    "duree_max = float(train_data['durations'].max())"
   ]
  },
  {
   "cell_type": "code",
   "execution_count": 8,
   "id": "e50fc77d",
   "metadata": {},
   "outputs": [],
   "source": [
    "def creat_mel_spectrograms(data_dir, duration=None, resizeaudio=True, n_fft=8192, hop_length=4096, n_mels=64):\n",
    "    \"\"\"\n",
    "    Takes a list for WAV files as an input and generate a Mel spectrograms image\n",
    "    \n",
    "    PARAMS\n",
    "    ======\n",
    "        data_dir (string) - Root directory to audio files\n",
    "        \n",
    "    \"\"\"\n",
    "    \n",
    "    for audioroot, _, audiofiles in os.walk(data_dir):\n",
    "        # Parent Directory path\n",
    "        print(audioroot)\n",
    "        # Path Spectrogram image\n",
    "        spectrogram_path = audioroot.replace(ROOT_AUDIO,'spectrogram')\n",
    "        print(spectrogram_path)\n",
    "        \n",
    "        for index in tqdm(range(len(audiofiles)), desc='Extracting features'):\n",
    "            filename = audiofiles[index]\n",
    "            audiopath = os.path.join(audioroot, filename)\n",
    "            file_ext = audiopath.split(\"\\\\\")[-1].split(\"_\")[-1].split(\".\")[-1]\n",
    "\n",
    "            if file_ext == 'wav':\n",
    "                # Create spectogram image from this audio signal:\n",
    "                fig = plt.figure(figsize=[0.72,0.72])\n",
    "                ax = fig.add_subplot(111)\n",
    "                ax.axes.get_xaxis().set_visible(False)\n",
    "                ax.axes.get_yaxis().set_visible(False)\n",
    "                ax.set_frame_on(False)\n",
    "\n",
    "                imagename = filename.replace('.wav','.jpg')\n",
    "                image_path = os.path.join(spectrogram_path, imagename)\n",
    "                \n",
    "                # Create the directory\n",
    "                os.makedirs(spectrogram_path, exist_ok = True)\n",
    "                \n",
    "                # Load audio file, sr = sample rate, signal = numpy array of audio file\n",
    "                audio, sample_rate = load_sound_file(audiopath, duration=duration)\n",
    "                \n",
    "                #extract melspectrogram feature\n",
    "                S = librosa.feature.melspectrogram(y=audio, sr=sample_rate, n_fft=n_fft, hop_length=hop_length, n_mels=n_mels)\n",
    "                \n",
    "                #convert this melspectrogram feature into a log scaled melspectrogram\n",
    "                librosa.display.specshow(librosa.power_to_db(S**2, ref=np.max), hop_length=hop_length, cmap='viridis')\n",
    "\n",
    "                #convert this melspectrogram feature into a log scaled melspectrogram\n",
    "#                S = mel_features_extractor(audiopath, duration, resizeaudio=resizeaudio)\n",
    "#                librosa.display.specshow(S)\n",
    "\n",
    "                plt.savefig(image_path, dpi=100, bbox_inches='tight', pad_inches=0, format='jpg')\n",
    "                plt.close('all')"
   ]
  },
  {
   "cell_type": "code",
   "execution_count": 9,
   "id": "b895ac5f",
   "metadata": {},
   "outputs": [],
   "source": [
    "def mel_features_extractor(file, duration=None , resizeaudio=False):\n",
    "    \"\"\"\n",
    "    Compute a mel-scaled spectrogram and generate a vector from music dataset \n",
    "    \n",
    "    PARAMS\n",
    "    ======\n",
    "        file (string) - location to the WAV file to open\n",
    "        min_s (int) - fixed length in second to resize the audio file\n",
    "        resizeaudio (boolean) - if True we truncate the audio file to min_ms time\n",
    "        \n",
    "    RETURNS\n",
    "    =======\n",
    "        mel_features (dataframe) - dataset\n",
    "    \"\"\"\n",
    "    mel = []\n",
    "    mel_features = []\n",
    "    \n",
    "    if resizeaudio:\n",
    "        audio, sample_rate = load_sound_file(file, duration=duration)\n",
    "    else:\n",
    "        audio, sample_rate = load_sound_file(file)\n",
    "        \n",
    "    mel = librosa.feature.melspectrogram(y=audio, sr=sample_rate, n_fft=n_fft, hop_length=hop_length, n_mels=n_mels)\n",
    "    mel_features = librosa.power_to_db(mel**2, ref=np.max)\n",
    "\n",
    "    return mel_features"
   ]
  },
  {
   "cell_type": "code",
   "execution_count": 10,
   "id": "c9de6172-f82e-424d-b782-c4476bbcde84",
   "metadata": {},
   "outputs": [],
   "source": [
    "train_data_shuffle = utils.shuffle(train_data)\n",
    "test_data_shuffle = utils.shuffle(test_data)"
   ]
  },
  {
   "cell_type": "markdown",
   "id": "32b74c6f-f3e6-4fc4-971a-84d93c234987",
   "metadata": {},
   "source": [
    "Pour que les données soient traitables par le modèle Lenet, il faut encoder les type de machines"
   ]
  },
  {
   "cell_type": "code",
   "execution_count": 11,
   "id": "6e306137",
   "metadata": {},
   "outputs": [],
   "source": [
    "type_dict = {\"fan\" : 0, \"pump\" : 1, \"slider\" : 2, \"ToyCar\" : 3, \"ToyConveyor\" : 4, \"valve\" : 5}\n",
    "\n",
    "def extract_mel_spectrograms(df):\n",
    "    premier = True\n",
    "    for row in tqdm(df.itertuples(),desc='MEL extraction',total=df.shape[0]):\n",
    "        audiopath = row.pathname\n",
    "        mel = mel_features_extractor(audiopath, duration=duree_min , resizeaudio=True)\n",
    "        type_machine = type_dict[row.machine_type]\n",
    "        if premier:\n",
    "            X = np.array([mel])\n",
    "            y = np.array(type_machine)\n",
    "            premier = False\n",
    "        else:\n",
    "            X = np.append(X,[mel],axis=0)\n",
    "            y = np.append(y,type_machine)\n",
    "    return X, y"
   ]
  },
  {
   "cell_type": "code",
   "execution_count": 12,
   "id": "8dd2385d",
   "metadata": {},
   "outputs": [
    {
     "name": "stdout",
     "output_type": "stream",
     "text": [
      "Train data processing\n"
     ]
    },
    {
     "data": {
      "application/vnd.jupyter.widget-view+json": {
       "model_id": "0e2e675616f54a1795f3bcfd441ff6f7",
       "version_major": 2,
       "version_minor": 0
      },
      "text/plain": [
       "MEL extraction:   0%|          | 0/20119 [00:00<?, ?it/s]"
      ]
     },
     "metadata": {},
     "output_type": "display_data"
    },
    {
     "name": "stdout",
     "output_type": "stream",
     "text": [
      "(20119, 64, 79)\n",
      "(20119,)\n",
      "Test data processing\n"
     ]
    },
    {
     "data": {
      "application/vnd.jupyter.widget-view+json": {
       "model_id": "a9da9050cd6e4220bb74cff5eaae25f6",
       "version_major": 2,
       "version_minor": 0
      },
      "text/plain": [
       "MEL extraction:   0%|          | 0/10868 [00:00<?, ?it/s]"
      ]
     },
     "metadata": {},
     "output_type": "display_data"
    },
    {
     "name": "stdout",
     "output_type": "stream",
     "text": [
      "(10868, 64, 79)\n",
      "(10868,)\n"
     ]
    }
   ],
   "source": [
    "print('Train data processing')\n",
    "X_train_spec, y_train_spec = extract_mel_spectrograms(train_data_shuffle)\n",
    "print(X_train_spec.shape)\n",
    "print(y_train_spec.shape)\n",
    "\n",
    "print('Test data processing')\n",
    "X_test_spec, y_test_spec = extract_mel_spectrograms(test_data_shuffle)\n",
    "\n",
    "print(X_test_spec.shape)\n",
    "print(y_test_spec.shape)"
   ]
  },
  {
   "cell_type": "code",
   "execution_count": 13,
   "id": "7475d1fa-e2d4-4db8-bc74-15d92c3e90fb",
   "metadata": {},
   "outputs": [
    {
     "data": {
      "text/html": [
       "<div>\n",
       "<style scoped>\n",
       "    .dataframe tbody tr th:only-of-type {\n",
       "        vertical-align: middle;\n",
       "    }\n",
       "\n",
       "    .dataframe tbody tr th {\n",
       "        vertical-align: top;\n",
       "    }\n",
       "\n",
       "    .dataframe thead th {\n",
       "        text-align: right;\n",
       "    }\n",
       "</style>\n",
       "<table border=\"1\" class=\"dataframe\">\n",
       "  <thead>\n",
       "    <tr style=\"text-align: right;\">\n",
       "      <th></th>\n",
       "      <th>pathname</th>\n",
       "      <th>filename</th>\n",
       "      <th>machine_id</th>\n",
       "      <th>sample_id</th>\n",
       "      <th>audio_format</th>\n",
       "      <th>machine_type</th>\n",
       "      <th>machine_kind</th>\n",
       "      <th>data_split</th>\n",
       "      <th>condition</th>\n",
       "      <th>durations</th>\n",
       "      <th>samplingrate</th>\n",
       "    </tr>\n",
       "  </thead>\n",
       "  <tbody>\n",
       "    <tr>\n",
       "      <th>3831</th>\n",
       "      <td>./../data\\dev_data\\slider\\test\\normal_id_04_00...</td>\n",
       "      <td>normal_id_04_00000010.wav</td>\n",
       "      <td>04</td>\n",
       "      <td>00000010</td>\n",
       "      <td>wav</td>\n",
       "      <td>slider</td>\n",
       "      <td>real_machine</td>\n",
       "      <td>test</td>\n",
       "      <td>normal</td>\n",
       "      <td>10.0</td>\n",
       "      <td>16000</td>\n",
       "    </tr>\n",
       "    <tr>\n",
       "      <th>1064</th>\n",
       "      <td>./../data\\dev_data\\fan\\test\\anomaly_id_04_0000...</td>\n",
       "      <td>anomaly_id_04_00000298.wav</td>\n",
       "      <td>04</td>\n",
       "      <td>00000298</td>\n",
       "      <td>wav</td>\n",
       "      <td>fan</td>\n",
       "      <td>real_machine</td>\n",
       "      <td>test</td>\n",
       "      <td>anomaly</td>\n",
       "      <td>10.0</td>\n",
       "      <td>16000</td>\n",
       "    </tr>\n",
       "    <tr>\n",
       "      <th>8896</th>\n",
       "      <td>./../data\\dev_data\\ToyConveyor\\test\\normal_id_...</td>\n",
       "      <td>normal_id_02_00000506.wav</td>\n",
       "      <td>02</td>\n",
       "      <td>00000506</td>\n",
       "      <td>wav</td>\n",
       "      <td>ToyConveyor</td>\n",
       "      <td>real_machine</td>\n",
       "      <td>test</td>\n",
       "      <td>normal</td>\n",
       "      <td>10.0</td>\n",
       "      <td>16000</td>\n",
       "    </tr>\n",
       "    <tr>\n",
       "      <th>4194</th>\n",
       "      <td>./../data\\dev_data\\ToyCar\\test\\anomaly_id_01_0...</td>\n",
       "      <td>anomaly_id_01_00000173.wav</td>\n",
       "      <td>01</td>\n",
       "      <td>00000173</td>\n",
       "      <td>wav</td>\n",
       "      <td>ToyCar</td>\n",
       "      <td>real_machine</td>\n",
       "      <td>test</td>\n",
       "      <td>anomaly</td>\n",
       "      <td>11.0</td>\n",
       "      <td>16000</td>\n",
       "    </tr>\n",
       "    <tr>\n",
       "      <th>2666</th>\n",
       "      <td>./../data\\dev_data\\pump\\test\\normal_id_06_0000...</td>\n",
       "      <td>normal_id_06_00000035.wav</td>\n",
       "      <td>06</td>\n",
       "      <td>00000035</td>\n",
       "      <td>wav</td>\n",
       "      <td>pump</td>\n",
       "      <td>real_machine</td>\n",
       "      <td>test</td>\n",
       "      <td>normal</td>\n",
       "      <td>10.0</td>\n",
       "      <td>16000</td>\n",
       "    </tr>\n",
       "  </tbody>\n",
       "</table>\n",
       "</div>"
      ],
      "text/plain": [
       "                                               pathname  \\\n",
       "3831  ./../data\\dev_data\\slider\\test\\normal_id_04_00...   \n",
       "1064  ./../data\\dev_data\\fan\\test\\anomaly_id_04_0000...   \n",
       "8896  ./../data\\dev_data\\ToyConveyor\\test\\normal_id_...   \n",
       "4194  ./../data\\dev_data\\ToyCar\\test\\anomaly_id_01_0...   \n",
       "2666  ./../data\\dev_data\\pump\\test\\normal_id_06_0000...   \n",
       "\n",
       "                        filename machine_id sample_id audio_format  \\\n",
       "3831   normal_id_04_00000010.wav         04  00000010          wav   \n",
       "1064  anomaly_id_04_00000298.wav         04  00000298          wav   \n",
       "8896   normal_id_02_00000506.wav         02  00000506          wav   \n",
       "4194  anomaly_id_01_00000173.wav         01  00000173          wav   \n",
       "2666   normal_id_06_00000035.wav         06  00000035          wav   \n",
       "\n",
       "     machine_type  machine_kind data_split condition  durations  samplingrate  \n",
       "3831       slider  real_machine       test    normal       10.0         16000  \n",
       "1064          fan  real_machine       test   anomaly       10.0         16000  \n",
       "8896  ToyConveyor  real_machine       test    normal       10.0         16000  \n",
       "4194       ToyCar  real_machine       test   anomaly       11.0         16000  \n",
       "2666         pump  real_machine       test    normal       10.0         16000  "
      ]
     },
     "execution_count": 13,
     "metadata": {},
     "output_type": "execute_result"
    }
   ],
   "source": [
    "test_data_shuffle.head()"
   ]
  },
  {
   "cell_type": "markdown",
   "id": "7a9a65c8-d734-4d72-9b13-6db84685cef6",
   "metadata": {},
   "source": [
    "## Standardisation des données avant traitement par le modèle Lenet"
   ]
  },
  {
   "cell_type": "code",
   "execution_count": 14,
   "id": "157b14db",
   "metadata": {},
   "outputs": [],
   "source": [
    "sc = StandardScaler()\n",
    "\n",
    "X_train_spec_std = X_train_spec.reshape(-1,64*79)\n",
    "X_train_spec_std = sc.fit_transform(X_train_spec_std)\n",
    "X_train_spec_std = X_train_spec_std.reshape(-1,64,79)\n",
    "X_train_spec_std = np.expand_dims(X_train_spec_std, -1)\n",
    "\n",
    "X_test_spec_std = X_test_spec.reshape(-1,64*79)\n",
    "X_test_spec_std = sc.transform(X_test_spec_std)\n",
    "X_test_spec_std = X_test_spec_std.reshape(-1,64,79)\n",
    "X_test_spec_std = np.expand_dims(X_test_spec_std, -1)\n",
    "\n",
    "y_train_spec = to_categorical(y_train_spec)\n",
    "y_test_spec = to_categorical(y_test_spec)"
   ]
  },
  {
   "cell_type": "markdown",
   "id": "35dc68ff-3158-4a16-9165-431f9d2bca00",
   "metadata": {},
   "source": [
    "## Construction du modèle Lenet"
   ]
  },
  {
   "cell_type": "code",
   "execution_count": 15,
   "id": "8383b856",
   "metadata": {},
   "outputs": [],
   "source": [
    "# Architecture du modèle\n",
    "inputs=Input(shape = (64, 79, 1), name = \"Input\")\n",
    "\n",
    "\n",
    "conv_1 = Conv2D(filters = 30,                     # Nombre de filtres\n",
    "                kernel_size = (5, 5),            # Dimensions du noyau\n",
    "                padding = 'valid',               # Mode de Dépassement\n",
    "                input_shape = (28, 28, 1),       # Dimensions de l'image en entrée\n",
    "                activation = 'relu')             # Fonction d'activation\n",
    "\n",
    "max_pool_1 = MaxPooling2D(pool_size = (2, 2))\n",
    "\n",
    "conv_2 = Conv2D(filters = 16,                    \n",
    "                kernel_size = (3, 3),          \n",
    "                padding = 'valid',             \n",
    "                activation = 'relu')\n",
    "\n",
    "max_pool_2 = MaxPooling2D(pool_size = (2, 2))\n",
    "\n",
    "flatten = Flatten()\n",
    "\n",
    "dropout = Dropout(rate = 0.2)\n",
    "\n",
    "dense_1 = Dense(units = 128,\n",
    "                activation = 'relu')\n",
    "\n",
    "dense_2 = Dense(units = 6,\n",
    "                activation = 'softmax')\n",
    "x=conv_1(inputs)\n",
    "x=max_pool_1(x)\n",
    "x=conv_2(x)\n",
    "x=max_pool_2(x)\n",
    "\n",
    "\n",
    "x=dropout(x)\n",
    "x=flatten(x)\n",
    "x=dense_1(x)\n",
    "outputs=dense_2(x)\n",
    "\n",
    "lenet = Model(inputs = inputs, outputs = outputs)\n",
    "\n",
    "# Compilation\n",
    "lenet.compile(loss='categorical_crossentropy',  # fonction de perte\n",
    "              optimizer='adam',                 # algorithme de descente de gradient\n",
    "              metrics=['accuracy'])             # métrique d'évaluation"
   ]
  },
  {
   "cell_type": "markdown",
   "id": "c15d1bda-7c23-4084-9d64-969c64408d1c",
   "metadata": {},
   "source": [
    "## Entrainement du modèle Lenet"
   ]
  },
  {
   "cell_type": "code",
   "execution_count": 16,
   "id": "a6562a76",
   "metadata": {},
   "outputs": [
    {
     "name": "stdout",
     "output_type": "stream",
     "text": [
      "Epoch 1/20\n",
      "126/126 [==============================] - 10s 81ms/step - loss: 0.4734 - accuracy: 0.8179 - val_loss: 0.2480 - val_accuracy: 0.9001\n",
      "Epoch 2/20\n",
      "126/126 [==============================] - 10s 80ms/step - loss: 0.1831 - accuracy: 0.9341 - val_loss: 0.1649 - val_accuracy: 0.9466\n",
      "Epoch 3/20\n",
      "126/126 [==============================] - 10s 80ms/step - loss: 0.1152 - accuracy: 0.9606 - val_loss: 0.1240 - val_accuracy: 0.9583\n",
      "Epoch 4/20\n",
      "126/126 [==============================] - 10s 80ms/step - loss: 0.0861 - accuracy: 0.9717 - val_loss: 0.0981 - val_accuracy: 0.9647\n",
      "Epoch 5/20\n",
      "126/126 [==============================] - 10s 80ms/step - loss: 0.0646 - accuracy: 0.9777 - val_loss: 0.1007 - val_accuracy: 0.9669\n",
      "Epoch 6/20\n",
      "126/126 [==============================] - 10s 80ms/step - loss: 0.0544 - accuracy: 0.9803 - val_loss: 0.0786 - val_accuracy: 0.9749\n",
      "Epoch 7/20\n",
      "126/126 [==============================] - 10s 80ms/step - loss: 0.0413 - accuracy: 0.9858 - val_loss: 0.1067 - val_accuracy: 0.9669\n",
      "Epoch 8/20\n",
      "126/126 [==============================] - 10s 79ms/step - loss: 0.0406 - accuracy: 0.9859 - val_loss: 0.0717 - val_accuracy: 0.9759\n",
      "Epoch 9/20\n",
      "126/126 [==============================] - 10s 80ms/step - loss: 0.0348 - accuracy: 0.9887 - val_loss: 0.0735 - val_accuracy: 0.9739\n",
      "Epoch 10/20\n",
      "126/126 [==============================] - 10s 80ms/step - loss: 0.0321 - accuracy: 0.9893 - val_loss: 0.0570 - val_accuracy: 0.9806\n",
      "Epoch 11/20\n",
      "126/126 [==============================] - 10s 80ms/step - loss: 0.0193 - accuracy: 0.9932 - val_loss: 0.0601 - val_accuracy: 0.9801\n",
      "Epoch 12/20\n",
      "126/126 [==============================] - 10s 80ms/step - loss: 0.0274 - accuracy: 0.9901 - val_loss: 0.0821 - val_accuracy: 0.9729\n",
      "Epoch 13/20\n",
      "126/126 [==============================] - 10s 80ms/step - loss: 0.0171 - accuracy: 0.9947 - val_loss: 0.0686 - val_accuracy: 0.9784\n",
      "Epoch 14/20\n",
      "126/126 [==============================] - 10s 80ms/step - loss: 0.0145 - accuracy: 0.9952 - val_loss: 0.0610 - val_accuracy: 0.9806\n",
      "Epoch 15/20\n",
      "126/126 [==============================] - 10s 80ms/step - loss: 0.0153 - accuracy: 0.9947 - val_loss: 0.0701 - val_accuracy: 0.9769\n",
      "Epoch 16/20\n",
      "126/126 [==============================] - 10s 80ms/step - loss: 0.0141 - accuracy: 0.9950 - val_loss: 0.0786 - val_accuracy: 0.9766\n",
      "Epoch 17/20\n",
      "126/126 [==============================] - 10s 80ms/step - loss: 0.0130 - accuracy: 0.9954 - val_loss: 0.0537 - val_accuracy: 0.9846\n",
      "Epoch 18/20\n",
      "126/126 [==============================] - 10s 80ms/step - loss: 0.0200 - accuracy: 0.9937 - val_loss: 0.0772 - val_accuracy: 0.9747\n",
      "Epoch 19/20\n",
      "126/126 [==============================] - 10s 80ms/step - loss: 0.0126 - accuracy: 0.9957 - val_loss: 0.0776 - val_accuracy: 0.9771\n",
      "Epoch 20/20\n",
      "126/126 [==============================] - 10s 81ms/step - loss: 0.0312 - accuracy: 0.9897 - val_loss: 0.0758 - val_accuracy: 0.9764\n"
     ]
    }
   ],
   "source": [
    "training_history_lenet = lenet.fit(X_train_spec_std, y_train_spec,          # données\n",
    "                                   validation_split = 0.2,              # split de test\n",
    "                                   epochs = 20,                         # nombre d'epochs\n",
    "                                   batch_size = 128)                   # taille des batchs"
   ]
  },
  {
   "cell_type": "markdown",
   "id": "a5bc9805-1efc-403e-8e6e-bcb66af102be",
   "metadata": {},
   "source": [
    "On obtient une précision de 98%,  meilleure que celles obtenues avec les modèles de machine Learning"
   ]
  },
  {
   "cell_type": "code",
   "execution_count": 17,
   "id": "be25eb8f",
   "metadata": {},
   "outputs": [],
   "source": [
    "train_acc_lenet = training_history_lenet.history['accuracy']\n",
    "val_acc_lenet = training_history_lenet.history['val_accuracy']"
   ]
  },
  {
   "cell_type": "code",
   "execution_count": 18,
   "id": "6d52fc19",
   "metadata": {},
   "outputs": [
    {
     "data": {
      "image/png": "[encoded data removed]",
      "text/plain": [
       "<Figure size 432x288 with 1 Axes>"
      ]
     },
     "metadata": {
      "needs_background": "light"
     },
     "output_type": "display_data"
    }
   ],
   "source": [
    "plt.xlabel('Epochs')\n",
    "plt.ylabel('Accuracy')\n",
    "\n",
    "# Courbe du score de test du réseau LeNet\n",
    "plt.plot(np.arange(1 , 21, 1),\n",
    "         val_acc_lenet, \n",
    "         label = 'LeNet val',\n",
    "         color = 'green')\n",
    "\n",
    "plt.plot(np.arange(1 , 21, 1),\n",
    "         train_acc_lenet, \n",
    "         label = 'LeNet train',\n",
    "         color = 'blue')\n",
    "\n",
    "# Affichage de la légende\n",
    "plt.legend()\n",
    "\n",
    "# Affichage de la figure\n",
    "plt.show()"
   ]
  },
  {
   "cell_type": "markdown",
   "id": "aa50d0b7-d8ea-4a3e-a6ba-1a8e2bd4ca44",
   "metadata": {},
   "source": [
    "## Prédiction avec le modèle RandomForest"
   ]
  },
  {
   "cell_type": "code",
   "execution_count": 19,
   "id": "c954676e",
   "metadata": {},
   "outputs": [],
   "source": [
    "test_pred_lenet = lenet.predict(X_test_spec_std)\n",
    "test_pred_lenet_class = test_pred_lenet.argmax(axis = 1)\n",
    "y_test_class = y_test_spec.argmax(axis = 1)"
   ]
  },
  {
   "cell_type": "code",
   "execution_count": 20,
   "id": "630baed9",
   "metadata": {},
   "outputs": [
    {
     "name": "stdout",
     "output_type": "stream",
     "text": [
      "              precision    recall  f1-score   support\n",
      "\n",
      "           0       0.89      0.87      0.88      1875\n",
      "           1       0.68      0.76      0.72       856\n",
      "           2       0.90      0.87      0.88      1290\n",
      "           3       0.99      1.00      1.00      2459\n",
      "           4       1.00      1.00      1.00      3509\n",
      "           5       0.99      0.97      0.98       879\n",
      "\n",
      "    accuracy                           0.94     10868\n",
      "   macro avg       0.91      0.91      0.91     10868\n",
      "weighted avg       0.94      0.94      0.94     10868\n",
      "\n"
     ]
    }
   ],
   "source": [
    "print(metrics.classification_report(y_test_class, test_pred_lenet_class))"
   ]
  },
  {
   "cell_type": "markdown",
   "id": "58993b75-0faf-4d8e-a31a-fbe6b46546f9",
   "metadata": {},
   "source": [
    "Les meilleurs résultats se vérifient avec ce rapport de classification"
   ]
  },
  {
   "cell_type": "code",
   "execution_count": 21,
   "id": "a3da8a4d",
   "metadata": {},
   "outputs": [
    {
     "data": {
      "image/png": "[encoded data removed]",
      "text/plain": [
       "<Figure size 432x288 with 2 Axes>"
      ]
     },
     "metadata": {
      "needs_background": "light"
     },
     "output_type": "display_data"
    }
   ],
   "source": [
    "cnf_matrix = metrics.confusion_matrix(y_test_class, test_pred_lenet_class)\n",
    "classes = range(0,6)\n",
    "\n",
    "plt.figure()\n",
    "\n",
    "plt.imshow(cnf_matrix, interpolation='nearest',cmap='Blues')\n",
    "plt.title(\"Matrice de confusion\")\n",
    "plt.colorbar()\n",
    "tick_marks = np.arange(len(classes))\n",
    "plt.xticks(tick_marks, classes)\n",
    "plt.yticks(tick_marks, classes)\n",
    "\n",
    "for i, j in itertools.product(range(cnf_matrix.shape[0]), range(cnf_matrix.shape[1])):\n",
    "    plt.text(j, i, cnf_matrix[i, j],\n",
    "             horizontalalignment=\"center\",\n",
    "             color=\"white\" if cnf_matrix[i, j] > ( cnf_matrix.max() / 2) else \"black\")\n",
    "\n",
    "plt.ylabel('Vrais labels')\n",
    "plt.xlabel('Labels prédits')\n",
    "plt.show()"
   ]
  },
  {
   "cell_type": "markdown",
   "id": "bc48aef2-1b3e-4a3a-9b43-d2603af0f2be",
   "metadata": {},
   "source": [
    "## Prédiction avec le modèle Lenet"
   ]
  },
  {
   "cell_type": "markdown",
   "id": "e8010fc5-dfac-43a4-889f-6acd72fa3f7d",
   "metadata": {},
   "source": [
    "On en profite pour remettre les types de machine en clair dans les données pour faciliter la lecture"
   ]
  },
  {
   "cell_type": "code",
   "execution_count": 22,
   "id": "a55d5d7d-b264-4189-99bc-21293c5b51ed",
   "metadata": {},
   "outputs": [],
   "source": [
    "result_lenet = pd.concat([test_data_shuffle, pd.Series(test_pred_lenet_class).rename('Predict_type')], axis=1)\n",
    "transdict = {0: 'fan',\n",
    "             1: 'pump',\n",
    "             2: 'slider',\n",
    "             3: 'ToyCar',\n",
    "             4: 'ToyConveyor',\n",
    "             5: 'valve'\n",
    "}\n",
    "result_lenet = result_lenet.replace({\"Predict_type\": transdict})"
   ]
  },
  {
   "cell_type": "markdown",
   "id": "89a8a1d6-1ff3-47bf-ae2a-0b6a7c8d721c",
   "metadata": {},
   "source": [
    "On construit une colonne contenant la prédiction de normalité fondée sur la règle suivante :\n",
    "\n",
    "si la détection du type de machine est juste on suppose que le son est normal\n",
    "\n",
    "si la détection est fausse on suppose que le son est anormal"
   ]
  },
  {
   "cell_type": "code",
   "execution_count": 23,
   "id": "8a09553b-b561-47c6-b712-e8da9a5d888e",
   "metadata": {},
   "outputs": [
    {
     "data": {
      "text/html": [
       "<div>\n",
       "<style scoped>\n",
       "    .dataframe tbody tr th:only-of-type {\n",
       "        vertical-align: middle;\n",
       "    }\n",
       "\n",
       "    .dataframe tbody tr th {\n",
       "        vertical-align: top;\n",
       "    }\n",
       "\n",
       "    .dataframe thead th {\n",
       "        text-align: right;\n",
       "    }\n",
       "</style>\n",
       "<table border=\"1\" class=\"dataframe\">\n",
       "  <thead>\n",
       "    <tr style=\"text-align: right;\">\n",
       "      <th>Classe prédite</th>\n",
       "      <th>anomaly</th>\n",
       "      <th>normal</th>\n",
       "    </tr>\n",
       "    <tr>\n",
       "      <th>Classe réelle</th>\n",
       "      <th></th>\n",
       "      <th></th>\n",
       "    </tr>\n",
       "  </thead>\n",
       "  <tbody>\n",
       "    <tr>\n",
       "      <th>anomaly</th>\n",
       "      <td>4454</td>\n",
       "      <td>1015</td>\n",
       "    </tr>\n",
       "    <tr>\n",
       "      <th>normal</th>\n",
       "      <td>4103</td>\n",
       "      <td>1296</td>\n",
       "    </tr>\n",
       "  </tbody>\n",
       "</table>\n",
       "</div>"
      ],
      "text/plain": [
       "Classe prédite  anomaly  normal\n",
       "Classe réelle                  \n",
       "anomaly            4454    1015\n",
       "normal             4103    1296"
      ]
     },
     "execution_count": 23,
     "metadata": {},
     "output_type": "execute_result"
    }
   ],
   "source": [
    "result_lenet.loc[result_lenet['machine_type'] == result_lenet['Predict_type'], 'Predict_condition'] = 'normal'  \n",
    "result_lenet.loc[result_lenet['machine_type'] != result_lenet['Predict_type'], 'Predict_condition'] = 'anomaly'\n",
    "pd.crosstab(result_lenet.condition, result_lenet.Predict_condition, rownames=['Classe réelle'], colnames=['Classe prédite'])"
   ]
  },
  {
   "cell_type": "code",
   "execution_count": 24,
   "id": "1f811607-6502-4ae9-ac74-0e4cad74ec73",
   "metadata": {},
   "outputs": [
    {
     "data": {
      "text/html": [
       "<div>\n",
       "<style scoped>\n",
       "    .dataframe tbody tr th:only-of-type {\n",
       "        vertical-align: middle;\n",
       "    }\n",
       "\n",
       "    .dataframe tbody tr th {\n",
       "        vertical-align: top;\n",
       "    }\n",
       "\n",
       "    .dataframe thead th {\n",
       "        text-align: right;\n",
       "    }\n",
       "</style>\n",
       "<table border=\"1\" class=\"dataframe\">\n",
       "  <thead>\n",
       "    <tr style=\"text-align: right;\">\n",
       "      <th></th>\n",
       "      <th>Predict_condition</th>\n",
       "      <th>anomaly</th>\n",
       "      <th>normal</th>\n",
       "    </tr>\n",
       "    <tr>\n",
       "      <th>machine_type</th>\n",
       "      <th>condition</th>\n",
       "      <th></th>\n",
       "      <th></th>\n",
       "    </tr>\n",
       "  </thead>\n",
       "  <tbody>\n",
       "    <tr>\n",
       "      <th rowspan=\"2\" valign=\"top\">ToyCar</th>\n",
       "      <th>anomaly</th>\n",
       "      <td>824</td>\n",
       "      <td>235</td>\n",
       "    </tr>\n",
       "    <tr>\n",
       "      <th>normal</th>\n",
       "      <td>1084</td>\n",
       "      <td>316</td>\n",
       "    </tr>\n",
       "    <tr>\n",
       "      <th rowspan=\"2\" valign=\"top\">ToyConveyor</th>\n",
       "      <th>anomaly</th>\n",
       "      <td>769</td>\n",
       "      <td>341</td>\n",
       "    </tr>\n",
       "    <tr>\n",
       "      <th>normal</th>\n",
       "      <td>1603</td>\n",
       "      <td>796</td>\n",
       "    </tr>\n",
       "    <tr>\n",
       "      <th rowspan=\"2\" valign=\"top\">fan</th>\n",
       "      <th>anomaly</th>\n",
       "      <td>1206</td>\n",
       "      <td>269</td>\n",
       "    </tr>\n",
       "    <tr>\n",
       "      <th>normal</th>\n",
       "      <td>331</td>\n",
       "      <td>69</td>\n",
       "    </tr>\n",
       "    <tr>\n",
       "      <th rowspan=\"2\" valign=\"top\">pump</th>\n",
       "      <th>anomaly</th>\n",
       "      <td>425</td>\n",
       "      <td>31</td>\n",
       "    </tr>\n",
       "    <tr>\n",
       "      <th>normal</th>\n",
       "      <td>365</td>\n",
       "      <td>35</td>\n",
       "    </tr>\n",
       "    <tr>\n",
       "      <th rowspan=\"2\" valign=\"top\">slider</th>\n",
       "      <th>anomaly</th>\n",
       "      <td>785</td>\n",
       "      <td>105</td>\n",
       "    </tr>\n",
       "    <tr>\n",
       "      <th>normal</th>\n",
       "      <td>359</td>\n",
       "      <td>41</td>\n",
       "    </tr>\n",
       "    <tr>\n",
       "      <th rowspan=\"2\" valign=\"top\">valve</th>\n",
       "      <th>anomaly</th>\n",
       "      <td>445</td>\n",
       "      <td>34</td>\n",
       "    </tr>\n",
       "    <tr>\n",
       "      <th>normal</th>\n",
       "      <td>361</td>\n",
       "      <td>39</td>\n",
       "    </tr>\n",
       "  </tbody>\n",
       "</table>\n",
       "</div>"
      ],
      "text/plain": [
       "Predict_condition       anomaly  normal\n",
       "machine_type condition                 \n",
       "ToyCar       anomaly        824     235\n",
       "             normal        1084     316\n",
       "ToyConveyor  anomaly        769     341\n",
       "             normal        1603     796\n",
       "fan          anomaly       1206     269\n",
       "             normal         331      69\n",
       "pump         anomaly        425      31\n",
       "             normal         365      35\n",
       "slider       anomaly        785     105\n",
       "             normal         359      41\n",
       "valve        anomaly        445      34\n",
       "             normal         361      39"
      ]
     },
     "execution_count": 24,
     "metadata": {},
     "output_type": "execute_result"
    }
   ],
   "source": [
    "pd.crosstab(index=[result_lenet.machine_type, result_lenet.condition], columns=result_lenet.Predict_condition)"
   ]
  },
  {
   "cell_type": "markdown",
   "id": "0e996e0d-fc88-4eeb-b738-522e2fc4c8a7",
   "metadata": {},
   "source": [
    "Les résultats de prédiction d'anomalies sont biens meilleures qu'avec les modèles de marchine learning"
   ]
  },
  {
   "cell_type": "code",
   "execution_count": 25,
   "id": "cefed215-01b8-4498-9f00-b354cb8435aa",
   "metadata": {},
   "outputs": [
    {
     "data": {
      "image/png": "[encoded data removed]",
      "text/plain": [
       "<Figure size 864x432 with 1 Axes>"
      ]
     },
     "metadata": {
      "needs_background": "light"
     },
     "output_type": "display_data"
    }
   ],
   "source": [
    "colonne = result_lenet.machine_type.unique().tolist()\n",
    "\n",
    "dict_analyse = {}\n",
    "VP, VN, FP, FN = [], [], [], []\n",
    "for col in colonne:\n",
    "    VP.append (result_lenet [(result_lenet['condition'] == \"normal\" ) & (result_lenet['Predict_condition'] == \"normal\") & (result_lenet['machine_type'] == col) ].shape[0])\n",
    "    VN.append (result_lenet [(result_lenet['condition'] == \"anomaly\" ) & (result_lenet['Predict_condition'] == \"anomaly\") & (result_lenet['machine_type'] == col) ].shape[0])\n",
    "    FP.append (result_lenet [(result_lenet['condition'] == \"anomaly\" ) & (result_lenet['Predict_condition'] == \"normal\") & (result_lenet['machine_type'] == col) ].shape[0])\n",
    "    FN.append (result_lenet [(result_lenet['condition'] == \"normal\" ) & (result_lenet['Predict_condition'] == \"anomaly\") & (result_lenet['machine_type'] == col) ].shape[0])\n",
    "    \n",
    "dict_analyse ['labels'] = colonne\n",
    "dict_analyse ['VP'] = VP\n",
    "dict_analyse ['VN'] = VN\n",
    "dict_analyse ['FP'] = FP\n",
    "dict_analyse ['FN'] = FN\n",
    "\n",
    "analyse = pd.DataFrame(dict_analyse)\n",
    "\n",
    "columns = [\"labels\", \"VP\", \"VN\", \"FP\", \"FN\"]\n",
    "analyse_melted = pd.melt(analyse, id_vars=columns[0], var_name=\"source\", value_name=\"value_numbers\")\n",
    "fig = plt.figure(figsize=(12.0, 6.0))\n",
    "g = sns.barplot(x=columns[0], y=\"value_numbers\", hue=\"source\", data=analyse_melted)\n",
    "plt.show()"
   ]
  }
 ],
 "metadata": {
  "kernelspec": {
   "display_name": "Python 3",
   "language": "python",
   "name": "python3"
  },
  "language_info": {
   "codemirror_mode": {
    "name": "ipython",
    "version": 3
   },
   "file_extension": ".py",
   "mimetype": "text/x-python",
   "name": "python",
   "nbconvert_exporter": "python",
   "pygments_lexer": "ipython3",
   "version": "3.8.10"
  }
 },
 "nbformat": 4,
 "nbformat_minor": 5
}
